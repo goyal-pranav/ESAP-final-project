{
  "cells": [
    {
      "cell_type": "markdown",
      "metadata": {
        "id": "view-in-github",
        "colab_type": "text"
      },
      "source": [
        "<a href=\"https://colab.research.google.com/github/goyal-pranav/ESAP-final-project/blob/main/ESAP_final_project.ipynb\" target=\"_parent\"><img src=\"https://colab.research.google.com/assets/colab-badge.svg\" alt=\"Open In Colab\"/></a>"
      ]
    },
    {
      "cell_type": "markdown",
      "metadata": {
        "id": "X3etULqwy3ux"
      },
      "source": [
        "\n",
        "**This is what you'll need to submit on Gradescope:**\n",
        "\n",
        "1. This notebook, completed.\n",
        "2. Your data in csv form (as noted in the Data Cleaning section below).\n",
        "3. Any other code you have written for your project."
      ]
    },
    {
      "cell_type": "markdown",
      "metadata": {
        "id": "TlnwL7say3vB"
      },
      "source": [
        "# Data cleaning"
      ]
    },
    {
      "cell_type": "markdown",
      "metadata": {
        "id": "UPFVAZISy3vB"
      },
      "source": [
        "The first step to data analysis is ensuring that you are focussing on the subset of the data that you have complete information about.\n",
        "\n",
        "1. Having taken a look at your dataset, what columns and rows have you decided to drop from it? Why?\n",
        "\n",
        "*A valid reason for dropping a column could be lack of information about the column, lack of a clear understanding of the units of measurement, a general feeling that it does not contain any useful information etc*\n",
        "\n",
        "If you decided to focus on just a subset of your data please describe why you chose that subset and why you feel the other rows do not matter."
      ]
    },
    {
      "cell_type": "markdown",
      "source": [
        "We have decided to drop the web description colums, the breach submission date column, and the state column. we want to focus more on the other columns because we can extract more useful information from them to compare different aspects of each breach.  "
      ],
      "metadata": {
        "id": "mwSnGvNEDZww"
      }
    },
    {
      "cell_type": "markdown",
      "source": [
        "2. If you chose to merge on any additional datasets, include the code for that here. "
      ],
      "metadata": {
        "id": "kLaAaRLp0LVH"
      }
    },
    {
      "cell_type": "markdown",
      "metadata": {
        "id": "Y7cf0zyay3vC"
      },
      "source": [
        "*Answer in this markdown cell. Add more markdown cells if you want.*"
      ]
    },
    {
      "cell_type": "code",
      "source": [
        "import numpy as np\n",
        "import pandas as pd"
      ],
      "metadata": {
        "id": "ntedJoDLEUGq"
      },
      "execution_count": null,
      "outputs": []
    },
    {
      "cell_type": "code",
      "source": [
        "breaches = pd.read_csv(\"/content/breach_report.csv\")"
      ],
      "metadata": {
        "id": "iFeSv80JEHAJ"
      },
      "execution_count": null,
      "outputs": []
    },
    {
      "cell_type": "code",
      "source": [
        "#breaches_clean = breaches.drop([\"State\"], axis = 1)"
      ],
      "metadata": {
        "id": "E0IcxHeKEgse"
      },
      "execution_count": null,
      "outputs": []
    },
    {
      "cell_type": "code",
      "source": [
        "breaches_clean = breaches.drop([\"Breach Submission Date\"], axis = 1)"
      ],
      "metadata": {
        "id": "K4USUBssErgj"
      },
      "execution_count": null,
      "outputs": []
    },
    {
      "cell_type": "code",
      "source": [
        "breaches_clean"
      ],
      "metadata": {
        "colab": {
          "base_uri": "https://localhost:8080/",
          "height": 763
        },
        "id": "wXq2P_lrMb7v",
        "outputId": "22284181-ea84-40bf-b332-d23024383529"
      },
      "execution_count": null,
      "outputs": [
        {
          "output_type": "execute_result",
          "data": {
            "text/plain": [
              "                                Name of Covered Entity State  \\\n",
              "0        Acts Retirement Services, Inc. and Affiliates    PA   \n",
              "1                            OPEN ARMS ASSISTED LIVING    WI   \n",
              "2    Mary Hitchcock Memorial Hospital d/b/a Dartmou...    NH   \n",
              "3                                        Benson Health    NC   \n",
              "4    Kaiser Foundation Health Plan, Inc., Southern ...    CA   \n",
              "..                                                 ...   ...   \n",
              "901                           Dynasplint Systems, Inc.    MD   \n",
              "902                          Summit Medical Associates    IN   \n",
              "903           Freeport Regional Health Care Foundation    IL   \n",
              "904                    Muskingum Valley Health Centers    OH   \n",
              "905                       Children's Hospital Colorado    CO   \n",
              "\n",
              "     Covered Entity Type  Individuals Affected  \\\n",
              "0    Healthcare Provider                  2236   \n",
              "1     Business Associate                  6000   \n",
              "2    Healthcare Provider                  1201   \n",
              "3    Healthcare Provider                 28913   \n",
              "4            Health Plan                 75010   \n",
              "..                   ...                   ...   \n",
              "901  Healthcare Provider                102800   \n",
              "902  Healthcare Provider                  7264   \n",
              "903  Healthcare Provider                  4120   \n",
              "904  Healthcare Provider                  7447   \n",
              "905  Healthcare Provider                  2553   \n",
              "\n",
              "                     Type of Breach  \\\n",
              "0               Hacking/IT Incident   \n",
              "1    Unauthorized Access/Disclosure   \n",
              "2                              Loss   \n",
              "3               Hacking/IT Incident   \n",
              "4                             Theft   \n",
              "..                              ...   \n",
              "901             Hacking/IT Incident   \n",
              "902             Hacking/IT Incident   \n",
              "903             Hacking/IT Incident   \n",
              "904             Hacking/IT Incident   \n",
              "905             Hacking/IT Incident   \n",
              "\n",
              "              Location of Breached Information Business Associate Present  \\\n",
              "0                               Network Server                         No   \n",
              "1             Other Portable Electronic Device                        Yes   \n",
              "2                                       Laptop                         No   \n",
              "3                               Network Server                         No   \n",
              "4             Other Portable Electronic Device                         No   \n",
              "..                                         ...                        ...   \n",
              "901                             Network Server                         No   \n",
              "902                             Network Server                         No   \n",
              "903                                      Email                         No   \n",
              "904  Electronic Medical Record, Network Server                         No   \n",
              "905                                      Email                         No   \n",
              "\n",
              "     Web Description  \n",
              "0                NaN  \n",
              "1                NaN  \n",
              "2                NaN  \n",
              "3                NaN  \n",
              "4                NaN  \n",
              "..               ...  \n",
              "901              NaN  \n",
              "902              NaN  \n",
              "903              NaN  \n",
              "904              NaN  \n",
              "905              NaN  \n",
              "\n",
              "[906 rows x 8 columns]"
            ],
            "text/html": [
              "\n",
              "  <div id=\"df-f8351dc9-bc0f-472b-b374-1c2d824ef200\">\n",
              "    <div class=\"colab-df-container\">\n",
              "      <div>\n",
              "<style scoped>\n",
              "    .dataframe tbody tr th:only-of-type {\n",
              "        vertical-align: middle;\n",
              "    }\n",
              "\n",
              "    .dataframe tbody tr th {\n",
              "        vertical-align: top;\n",
              "    }\n",
              "\n",
              "    .dataframe thead th {\n",
              "        text-align: right;\n",
              "    }\n",
              "</style>\n",
              "<table border=\"1\" class=\"dataframe\">\n",
              "  <thead>\n",
              "    <tr style=\"text-align: right;\">\n",
              "      <th></th>\n",
              "      <th>Name of Covered Entity</th>\n",
              "      <th>State</th>\n",
              "      <th>Covered Entity Type</th>\n",
              "      <th>Individuals Affected</th>\n",
              "      <th>Type of Breach</th>\n",
              "      <th>Location of Breached Information</th>\n",
              "      <th>Business Associate Present</th>\n",
              "      <th>Web Description</th>\n",
              "    </tr>\n",
              "  </thead>\n",
              "  <tbody>\n",
              "    <tr>\n",
              "      <th>0</th>\n",
              "      <td>Acts Retirement Services, Inc. and Affiliates</td>\n",
              "      <td>PA</td>\n",
              "      <td>Healthcare Provider</td>\n",
              "      <td>2236</td>\n",
              "      <td>Hacking/IT Incident</td>\n",
              "      <td>Network Server</td>\n",
              "      <td>No</td>\n",
              "      <td>NaN</td>\n",
              "    </tr>\n",
              "    <tr>\n",
              "      <th>1</th>\n",
              "      <td>OPEN ARMS ASSISTED LIVING</td>\n",
              "      <td>WI</td>\n",
              "      <td>Business Associate</td>\n",
              "      <td>6000</td>\n",
              "      <td>Unauthorized Access/Disclosure</td>\n",
              "      <td>Other Portable Electronic Device</td>\n",
              "      <td>Yes</td>\n",
              "      <td>NaN</td>\n",
              "    </tr>\n",
              "    <tr>\n",
              "      <th>2</th>\n",
              "      <td>Mary Hitchcock Memorial Hospital d/b/a Dartmou...</td>\n",
              "      <td>NH</td>\n",
              "      <td>Healthcare Provider</td>\n",
              "      <td>1201</td>\n",
              "      <td>Loss</td>\n",
              "      <td>Laptop</td>\n",
              "      <td>No</td>\n",
              "      <td>NaN</td>\n",
              "    </tr>\n",
              "    <tr>\n",
              "      <th>3</th>\n",
              "      <td>Benson Health</td>\n",
              "      <td>NC</td>\n",
              "      <td>Healthcare Provider</td>\n",
              "      <td>28913</td>\n",
              "      <td>Hacking/IT Incident</td>\n",
              "      <td>Network Server</td>\n",
              "      <td>No</td>\n",
              "      <td>NaN</td>\n",
              "    </tr>\n",
              "    <tr>\n",
              "      <th>4</th>\n",
              "      <td>Kaiser Foundation Health Plan, Inc., Southern ...</td>\n",
              "      <td>CA</td>\n",
              "      <td>Health Plan</td>\n",
              "      <td>75010</td>\n",
              "      <td>Theft</td>\n",
              "      <td>Other Portable Electronic Device</td>\n",
              "      <td>No</td>\n",
              "      <td>NaN</td>\n",
              "    </tr>\n",
              "    <tr>\n",
              "      <th>...</th>\n",
              "      <td>...</td>\n",
              "      <td>...</td>\n",
              "      <td>...</td>\n",
              "      <td>...</td>\n",
              "      <td>...</td>\n",
              "      <td>...</td>\n",
              "      <td>...</td>\n",
              "      <td>...</td>\n",
              "    </tr>\n",
              "    <tr>\n",
              "      <th>901</th>\n",
              "      <td>Dynasplint Systems, Inc.</td>\n",
              "      <td>MD</td>\n",
              "      <td>Healthcare Provider</td>\n",
              "      <td>102800</td>\n",
              "      <td>Hacking/IT Incident</td>\n",
              "      <td>Network Server</td>\n",
              "      <td>No</td>\n",
              "      <td>NaN</td>\n",
              "    </tr>\n",
              "    <tr>\n",
              "      <th>902</th>\n",
              "      <td>Summit Medical Associates</td>\n",
              "      <td>IN</td>\n",
              "      <td>Healthcare Provider</td>\n",
              "      <td>7264</td>\n",
              "      <td>Hacking/IT Incident</td>\n",
              "      <td>Network Server</td>\n",
              "      <td>No</td>\n",
              "      <td>NaN</td>\n",
              "    </tr>\n",
              "    <tr>\n",
              "      <th>903</th>\n",
              "      <td>Freeport Regional Health Care Foundation</td>\n",
              "      <td>IL</td>\n",
              "      <td>Healthcare Provider</td>\n",
              "      <td>4120</td>\n",
              "      <td>Hacking/IT Incident</td>\n",
              "      <td>Email</td>\n",
              "      <td>No</td>\n",
              "      <td>NaN</td>\n",
              "    </tr>\n",
              "    <tr>\n",
              "      <th>904</th>\n",
              "      <td>Muskingum Valley Health Centers</td>\n",
              "      <td>OH</td>\n",
              "      <td>Healthcare Provider</td>\n",
              "      <td>7447</td>\n",
              "      <td>Hacking/IT Incident</td>\n",
              "      <td>Electronic Medical Record, Network Server</td>\n",
              "      <td>No</td>\n",
              "      <td>NaN</td>\n",
              "    </tr>\n",
              "    <tr>\n",
              "      <th>905</th>\n",
              "      <td>Children's Hospital Colorado</td>\n",
              "      <td>CO</td>\n",
              "      <td>Healthcare Provider</td>\n",
              "      <td>2553</td>\n",
              "      <td>Hacking/IT Incident</td>\n",
              "      <td>Email</td>\n",
              "      <td>No</td>\n",
              "      <td>NaN</td>\n",
              "    </tr>\n",
              "  </tbody>\n",
              "</table>\n",
              "<p>906 rows × 8 columns</p>\n",
              "</div>\n",
              "      <button class=\"colab-df-convert\" onclick=\"convertToInteractive('df-f8351dc9-bc0f-472b-b374-1c2d824ef200')\"\n",
              "              title=\"Convert this dataframe to an interactive table.\"\n",
              "              style=\"display:none;\">\n",
              "        \n",
              "  <svg xmlns=\"http://www.w3.org/2000/svg\" height=\"24px\"viewBox=\"0 0 24 24\"\n",
              "       width=\"24px\">\n",
              "    <path d=\"M0 0h24v24H0V0z\" fill=\"none\"/>\n",
              "    <path d=\"M18.56 5.44l.94 2.06.94-2.06 2.06-.94-2.06-.94-.94-2.06-.94 2.06-2.06.94zm-11 1L8.5 8.5l.94-2.06 2.06-.94-2.06-.94L8.5 2.5l-.94 2.06-2.06.94zm10 10l.94 2.06.94-2.06 2.06-.94-2.06-.94-.94-2.06-.94 2.06-2.06.94z\"/><path d=\"M17.41 7.96l-1.37-1.37c-.4-.4-.92-.59-1.43-.59-.52 0-1.04.2-1.43.59L10.3 9.45l-7.72 7.72c-.78.78-.78 2.05 0 2.83L4 21.41c.39.39.9.59 1.41.59.51 0 1.02-.2 1.41-.59l7.78-7.78 2.81-2.81c.8-.78.8-2.07 0-2.86zM5.41 20L4 18.59l7.72-7.72 1.47 1.35L5.41 20z\"/>\n",
              "  </svg>\n",
              "      </button>\n",
              "      \n",
              "  <style>\n",
              "    .colab-df-container {\n",
              "      display:flex;\n",
              "      flex-wrap:wrap;\n",
              "      gap: 12px;\n",
              "    }\n",
              "\n",
              "    .colab-df-convert {\n",
              "      background-color: #E8F0FE;\n",
              "      border: none;\n",
              "      border-radius: 50%;\n",
              "      cursor: pointer;\n",
              "      display: none;\n",
              "      fill: #1967D2;\n",
              "      height: 32px;\n",
              "      padding: 0 0 0 0;\n",
              "      width: 32px;\n",
              "    }\n",
              "\n",
              "    .colab-df-convert:hover {\n",
              "      background-color: #E2EBFA;\n",
              "      box-shadow: 0px 1px 2px rgba(60, 64, 67, 0.3), 0px 1px 3px 1px rgba(60, 64, 67, 0.15);\n",
              "      fill: #174EA6;\n",
              "    }\n",
              "\n",
              "    [theme=dark] .colab-df-convert {\n",
              "      background-color: #3B4455;\n",
              "      fill: #D2E3FC;\n",
              "    }\n",
              "\n",
              "    [theme=dark] .colab-df-convert:hover {\n",
              "      background-color: #434B5C;\n",
              "      box-shadow: 0px 1px 3px 1px rgba(0, 0, 0, 0.15);\n",
              "      filter: drop-shadow(0px 1px 2px rgba(0, 0, 0, 0.3));\n",
              "      fill: #FFFFFF;\n",
              "    }\n",
              "  </style>\n",
              "\n",
              "      <script>\n",
              "        const buttonEl =\n",
              "          document.querySelector('#df-f8351dc9-bc0f-472b-b374-1c2d824ef200 button.colab-df-convert');\n",
              "        buttonEl.style.display =\n",
              "          google.colab.kernel.accessAllowed ? 'block' : 'none';\n",
              "\n",
              "        async function convertToInteractive(key) {\n",
              "          const element = document.querySelector('#df-f8351dc9-bc0f-472b-b374-1c2d824ef200');\n",
              "          const dataTable =\n",
              "            await google.colab.kernel.invokeFunction('convertToInteractive',\n",
              "                                                     [key], {});\n",
              "          if (!dataTable) return;\n",
              "\n",
              "          const docLinkHtml = 'Like what you see? Visit the ' +\n",
              "            '<a target=\"_blank\" href=https://colab.research.google.com/notebooks/data_table.ipynb>data table notebook</a>'\n",
              "            + ' to learn more about interactive tables.';\n",
              "          element.innerHTML = '';\n",
              "          dataTable['output_type'] = 'display_data';\n",
              "          await google.colab.output.renderOutput(dataTable, element);\n",
              "          const docLink = document.createElement('div');\n",
              "          docLink.innerHTML = docLinkHtml;\n",
              "          element.appendChild(docLink);\n",
              "        }\n",
              "      </script>\n",
              "    </div>\n",
              "  </div>\n",
              "  "
            ]
          },
          "metadata": {},
          "execution_count": 54
        }
      ]
    },
    {
      "cell_type": "code",
      "source": [
        "breaches_clean = breaches_clean.drop(['Web Description'], axis = 1)"
      ],
      "metadata": {
        "id": "HnCd0HsoE2UZ"
      },
      "execution_count": null,
      "outputs": []
    },
    {
      "cell_type": "markdown",
      "source": [
        "## Exploring the data"
      ],
      "metadata": {
        "id": "O14-Q8i9WdPD"
      }
    },
    {
      "cell_type": "markdown",
      "source": [
        "Using sorting, groupby etc find out some interesting aspects of the data. Even a short fact counts. For instance, if you were working with population data, you could say that 25% of the world lives in South Asia after you do some group by commands.\n",
        "\n",
        "In this section of your project try to find as many interesting facts as possible. "
      ],
      "metadata": {
        "id": "aVg6JmI_WjC5"
      }
    },
    {
      "cell_type": "code",
      "source": [
        "print(breaches_clean[\"State\"].mode())"
      ],
      "metadata": {
        "colab": {
          "base_uri": "https://localhost:8080/"
        },
        "id": "-Kk_Dm6yE9lG",
        "outputId": "f113dc9a-db9a-4cf6-9977-d238c8380a28"
      },
      "execution_count": null,
      "outputs": [
        {
          "output_type": "stream",
          "name": "stdout",
          "text": [
            "0    TX\n",
            "dtype: object\n"
          ]
        }
      ]
    },
    {
      "cell_type": "code",
      "source": [
        "breaches_clean[\"Type of Breach\"].mode()"
      ],
      "metadata": {
        "colab": {
          "base_uri": "https://localhost:8080/"
        },
        "id": "k7o6UJHLIDcG",
        "outputId": "bd6b2833-a509-45c2-acf0-7a73adefeacd"
      },
      "execution_count": null,
      "outputs": [
        {
          "output_type": "execute_result",
          "data": {
            "text/plain": [
              "0    Hacking/IT Incident\n",
              "dtype: object"
            ]
          },
          "metadata": {},
          "execution_count": 29
        }
      ]
    },
    {
      "cell_type": "code",
      "source": [
        "grouped_by_type = breaches_clean.groupby(['Type of Breach'])\n",
        "grouped_by_type"
      ],
      "metadata": {
        "colab": {
          "base_uri": "https://localhost:8080/"
        },
        "id": "NwbiWED6LF9K",
        "outputId": "5c3aad88-f55a-4344-c533-6a899f582050"
      },
      "execution_count": 19,
      "outputs": [
        {
          "output_type": "execute_result",
          "data": {
            "text/plain": [
              "<pandas.core.groupby.generic.DataFrameGroupBy object at 0x7f70673da2d0>"
            ]
          },
          "metadata": {},
          "execution_count": 19
        }
      ]
    },
    {
      "cell_type": "code",
      "source": [
        "breaches_clean[\"Covered Entity Type\"].mode()"
      ],
      "metadata": {
        "colab": {
          "base_uri": "https://localhost:8080/"
        },
        "id": "-RkYLkCrQOmU",
        "outputId": "1c61727f-853b-4da1-f9f5-0e30a56cccc0"
      },
      "execution_count": null,
      "outputs": [
        {
          "output_type": "execute_result",
          "data": {
            "text/plain": [
              "0    Healthcare Provider\n",
              "dtype: object"
            ]
          },
          "metadata": {},
          "execution_count": 57
        }
      ]
    },
    {
      "cell_type": "code",
      "source": [
        "breaches_clean[\"Business Associate Present\"].mode()"
      ],
      "metadata": {
        "colab": {
          "base_uri": "https://localhost:8080/"
        },
        "id": "vnkRyC7bQYFH",
        "outputId": "fa748858-8cd9-4564-80cc-19da449f4200"
      },
      "execution_count": null,
      "outputs": [
        {
          "output_type": "execute_result",
          "data": {
            "text/plain": [
              "0    No\n",
              "dtype: object"
            ]
          },
          "metadata": {},
          "execution_count": 58
        }
      ]
    },
    {
      "cell_type": "code",
      "source": [
        "num_No = breaches_clean['Business Associate Present'].value_counts()[\"No\"]"
      ],
      "metadata": {
        "id": "OPYuoYymQsKM"
      },
      "execution_count": null,
      "outputs": []
    },
    {
      "cell_type": "code",
      "source": [
        "num_No"
      ],
      "metadata": {
        "colab": {
          "base_uri": "https://localhost:8080/"
        },
        "id": "Tw4DqDxxR3z3",
        "outputId": "064e3bd2-0cc0-4a9a-aefc-d63c3d1bc965"
      },
      "execution_count": null,
      "outputs": [
        {
          "output_type": "execute_result",
          "data": {
            "text/plain": [
              "627"
            ]
          },
          "metadata": {},
          "execution_count": 64
        }
      ]
    },
    {
      "cell_type": "markdown",
      "metadata": {
        "id": "7NlMtixKy3vC"
      },
      "source": [
        "# Visualizations "
      ]
    },
    {
      "cell_type": "code",
      "source": [
        ""
      ],
      "metadata": {
        "id": "RtEUzsEsF8Eb"
      },
      "execution_count": null,
      "outputs": []
    },
    {
      "cell_type": "markdown",
      "metadata": {
        "id": "uDt8HFa3y3vC"
      },
      "source": [
        "Make at least 6 visualizations (if this number is unreasonable please talk to your mentoring TA before reducing it) that reveal something interesting about the data. Try to include at least one scatterplot and one histogram/bar graph (again, if the data does not lend itself to these plots do let us know"
      ]
    },
    {
      "cell_type": "markdown",
      "metadata": {
        "id": "E9Vi1bXhy3vD"
      },
      "source": [
        "Make sure that your visualizations\n",
        "1. Have things like the axes, titles, units etc\n",
        "2. Are telling a slightly interesting story. Interesting = something a person who has not seen this data might not be able to just guess."
      ]
    },
    {
      "cell_type": "markdown",
      "metadata": {
        "id": "g0cDLpQby3vD"
      },
      "source": [
        "Write a few lines telling us what your visualization represents and what it reveals. Discuss any potential hypotheses that could result from these visualizations."
      ]
    },
    {
      "cell_type": "markdown",
      "metadata": {
        "id": "8aXqumDvy3vD"
      },
      "source": [
        "_Write your answer in this markdown cell._"
      ]
    }
  ],
  "metadata": {
    "kernelspec": {
      "display_name": "Python 3",
      "language": "python",
      "name": "python3"
    },
    "language_info": {
      "codemirror_mode": {
        "name": "ipython",
        "version": 3
      },
      "file_extension": ".py",
      "mimetype": "text/x-python",
      "name": "python",
      "nbconvert_exporter": "python",
      "pygments_lexer": "ipython3",
      "version": "3.7.7"
    },
    "colab": {
      "name": "ESAP_final_project.ipynb",
      "provenance": [],
      "collapsed_sections": [],
      "include_colab_link": true
    }
  },
  "nbformat": 4,
  "nbformat_minor": 0
}